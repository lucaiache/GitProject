{
 "cells": [
  {
   "cell_type": "markdown",
   "metadata": {},
   "source": [
    "Open the file `Porphyrin absorption.csv` in a text editor and determine its format. Import the data in the notebook using `numpy.loadtxt`. "
   ]
  },
  {
   "cell_type": "code",
   "execution_count": null,
   "metadata": {},
   "outputs": [],
   "source": [
    "import matplotlib.pyplot as plt\n",
    "import numpy as np\n",
    "from scipy.optimize import curve_fit\n",
    "%matplotlib ipympl\n",
    "    \n",
    "data = np.loadtxt('Porphyrin absorption.csv', skiprows = 1,\\\n",
    "                  delimiter=',') \n",
    "\n",
    "wavelength = data[:,0]\n",
    "absorbance = data[:,1]"
   ]
  },
  {
   "cell_type": "markdown",
   "metadata": {},
   "source": [
    "2) Plot the spectrum, add axes labels and so on."
   ]
  },
  {
   "cell_type": "code",
   "execution_count": null,
   "metadata": {},
   "outputs": [],
   "source": [
    "fig,ax = plt.subplots(1,1)\n",
    "ax.plot(wavelength,absorbance)\n",
    "ax.set_xlabel('wavelength (nm)')\n",
    "ax.set_ylabel('absorbance')\n",
    "plt.show()"
   ]
  },
  {
   "cell_type": "markdown",
   "metadata": {},
   "source": [
    "3) Start by fitting the spectrum with a single Gaussian function centered around the largest peak, and see the result.\n"
   ]
  },
  {
   "cell_type": "code",
   "execution_count": null,
   "metadata": {},
   "outputs": [],
   "source": [
    "def model(x, A, mu, sig):\n",
    "    return A/(np.sqrt(2*np.pi)*sig)*np.exp(-np.power((x - mu)/sig,2)/2)\n",
    "\n",
    "x = np.linspace(400,700,1000)\n",
    "p0 = [20,515,5]\n",
    "iMin = 74\n",
    "iMax = 134\n",
    "popt, pcov = curve_fit(model, wavelength[iMin:iMax], absorbance[iMin:iMax], p0)\n",
    "\n",
    "fitted_curve = model(x,*popt)\n",
    "print(popt)\n",
    "\n",
    "fig, ax = plt.subplots()\n",
    "ax.plot(wavelength,absorbance,'.',label='Dati')\n",
    "ax.plot(x, model(x,*p0),'g-',label='Modello')\n",
    "ax.plot(x, fitted_curve, 'r-',label='Fit')\n",
    "ax.set_xlabel('wavelengh (nm)')\n",
    "ax.set_ylabel('absorbance')\n",
    "ax.legend()\n",
    "# ax[0].axvline(x=500)\n",
    "plt.show()\n"
   ]
  }
 ],
 "metadata": {
  "language_info": {
   "name": "python"
  }
 },
 "nbformat": 4,
 "nbformat_minor": 2
}
