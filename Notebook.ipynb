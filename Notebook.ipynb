{
 "cells": [
  {
   "cell_type": "markdown",
   "metadata": {},
   "source": [
    "Open the file `Porphyrin absorption.csv` in a text editor and determine its format. Import the data in the notebook using `numpy.loadtxt`. "
   ]
  },
  {
   "cell_type": "code",
   "execution_count": null,
   "metadata": {},
   "outputs": [],
   "source": [
    "import matplotlib.pyplot as plt\n",
    "import numpy as np\n",
    "from scipy.optimize import curve_fit\n",
    "%matplotlib ipympl\n",
    "    \n",
    "data = np.loadtxt('Porphyrin absorption.csv', skiprows = 1,\\\n",
    "                  delimiter=',') \n",
    "\n",
    "wavelength = data[:,0]\n",
    "absorbance = data[:,1]"
   ]
  },
  {
   "cell_type": "markdown",
   "metadata": {},
   "source": [
    "2) Plot the spectrum, add axes labels and so on."
   ]
  },
  {
   "cell_type": "code",
   "execution_count": null,
   "metadata": {},
   "outputs": [],
   "source": [
    "fig,ax = plt.subplots(1,1)\n",
    "ax.plot(wavelength,absorbance)\n",
    "ax.set_xlabel('wavelength (nm)')\n",
    "ax.set_ylabel('absorbance')\n",
    "plt.show()"
   ]
  },
  {
   "cell_type": "markdown",
   "metadata": {},
   "source": [
    "3) Start by fitting the spectrum with a single Gaussian function centered around the largest peak, and see the result.\n"
   ]
  },
  {
   "cell_type": "code",
   "execution_count": null,
   "metadata": {},
   "outputs": [],
   "source": [
    "def model(x, A, mu, sig):\n",
    "    return A/(np.sqrt(2*np.pi)*sig)*np.exp(-np.power((x - mu)/sig,2)/2)\n",
    "\n",
    "x = np.linspace(400,700,1000)\n",
    "p0 = [20,515,5]\n",
    "iMin = 74\n",
    "iMax = 134\n",
    "popt, pcov = curve_fit(model, wavelength[iMin:iMax], absorbance[iMin:iMax], p0)\n",
    "\n",
    "fitted_curve = model(x,*popt)\n",
    "print(popt)\n",
    "\n",
    "fig, ax = plt.subplots()\n",
    "ax.plot(wavelength,absorbance,'.',label='Dati')\n",
    "ax.plot(x, model(x,*p0),'g-',label='Modello')\n",
    "ax.plot(x, fitted_curve, 'r-',label='Fit')\n",
    "ax.set_xlabel('wavelengh (nm)')\n",
    "ax.set_ylabel('absorbance')\n",
    "ax.legend()\n",
    "# ax[0].axvline(x=500)\n",
    "plt.show()\n"
   ]
  },
  {
   "cell_type": "markdown",
   "metadata": {},
   "source": [
    "4) Determine by eye the number of Gaussians which are required to fit all the peaks. Prepare a fitting function providing such Gaussians (with variable amplitude, center and width) and try to fit the data. "
   ]
  },
  {
   "cell_type": "code",
   "execution_count": null,
   "metadata": {},
   "outputs": [],
   "source": [
    "def model(x, *p0):\n",
    "    f = 0\n",
    "    p0 = np.reshape(p0,(3,-1))\n",
    "    A = p0[0,:]\n",
    "    mu = p0[1,:]\n",
    "    sig = p0[2,:]\n",
    "    for i in range(len(A)):\n",
    "        f = f + A[i]/(np.sqrt(2*np.pi)*sig[i])*np.exp(-np.power((x - mu[i])/sig[i],2)/2) \n",
    "    return f\n",
    "\n",
    "p0 = [1,4,3,2,2,485,515,550,590,650,1,1,1,1,1] #senza baseline lineare\n",
    "\n",
    "popt, pcov = curve_fit(model,wavelength,absorbance,p0)\n",
    "\n",
    "fitted_curve = model(x,*popt)\n",
    "fitted_curve_discrete = model(wavelength, *popt)\n",
    "scarti = absorbance-fitted_curve_discrete\n",
    "\n",
    "fig, ax = plt.subplots(nrows=2,sharex='all')\n",
    "\n",
    "ax[0].plot(wavelength,absorbance,'.',label='Dati')\n",
    "ax[0].plot(x, model(x,*p0),'g-',label='Modello')\n",
    "ax[0].plot(x, fitted_curve, 'r-',label='Fit')\n",
    "ax[0].set_ylabel('absorbance')\n",
    "ax[1].set_ylabel('absorbance')\n",
    "ax[1].plot(wavelength, scarti,'-',label='Scarti',markersize=3)\n",
    "ax[1].set_xlabel('wavelengh (nm)')\n",
    "ax[0].legend(loc='upper left')\n",
    "ax[1].legend(loc='upper left')\n",
    "plt.show()"
   ]
  },
  {
   "cell_type": "markdown",
   "metadata": {},
   "source": [
    "5) Have a look at the residuals. Add a linear baseline to the sum of Gaussians."
   ]
  },
  {
   "cell_type": "code",
   "execution_count": null,
   "metadata": {},
   "outputs": [],
   "source": [
    "def model(x, *p0):\n",
    "    f = 0\n",
    "    q = p0[-2] #prima prendo i parametri q e m per la baseline lineare\n",
    "    m = p0[-1]\n",
    "    p0 = p0[:-2]\n",
    "    p0 = np.reshape(p0,(3,-1))\n",
    "    A = p0[0,:] # poi i parametri per le cinque gaussiane\n",
    "    mu = p0[1,:]\n",
    "    sig = p0[2,:]\n",
    "    for i in range(len(A)):\n",
    "        f = f + A[i]/(np.sqrt(2*np.pi)*sig[i])*np.exp(-np.power((x - mu[i])/sig[i],2)/2) \n",
    "    f = f + m*x + q\n",
    "    return f\n",
    "\n",
    "\n",
    "p0 = [1,4,3,2,2,485,515,550,590,650,1,1,1,1,1,0.1,-0.005] #con baseline lineare\n",
    "\n",
    "popt, pcov = curve_fit(model,wavelength,absorbance,p0)\n",
    "\n",
    "fitted_curve = model(x,*popt)\n",
    "fitted_curve_discrete = model(wavelength, *popt)\n",
    "scarti = absorbance-fitted_curve_discrete\n",
    "\n",
    "fig, ax = plt.subplots(nrows=2,sharex='all')\n",
    "\n",
    "ax[0].plot(wavelength,absorbance,'.',label='Dati')\n",
    "ax[0].plot(x, model(x,*p0),'g-',label='Modello')\n",
    "ax[0].plot(x, fitted_curve, 'r-',label='Fit')\n",
    "ax[0].set_ylabel('absorbance')\n",
    "ax[1].set_ylabel('absorbance')\n",
    "ax[1].plot(wavelength, scarti,'-',label='Scarti',markersize=3)\n",
    "ax[1].set_xlabel('wavelengh (nm)')\n",
    "ax[0].legend(loc='upper left')\n",
    "ax[1].legend(loc='upper left')\n",
    "plt.show()\n",
    "\n",
    "# con la baseline lineare gli scarti sono diminuiti leggermente e il fit anche a occhio risulta migliore "
   ]
  }
 ],
 "metadata": {
  "kernelspec": {
   "display_name": "base",
   "language": "python",
   "name": "python3"
  },
  "language_info": {
   "codemirror_mode": {
    "name": "ipython",
    "version": 3
   },
   "file_extension": ".py",
   "mimetype": "text/x-python",
   "name": "python",
   "nbconvert_exporter": "python",
   "pygments_lexer": "ipython3",
   "version": "3.12.1"
  }
 },
 "nbformat": 4,
 "nbformat_minor": 2
}
